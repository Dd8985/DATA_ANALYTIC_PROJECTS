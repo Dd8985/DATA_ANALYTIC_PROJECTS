{
  "nbformat": 4,
  "nbformat_minor": 0,
  "metadata": {
    "colab": {
      "provenance": [],
      "authorship_tag": "ABX9TyM3D0yADrO5vLXMeHpgOkW+",
      "include_colab_link": true
    },
    "kernelspec": {
      "name": "python3",
      "display_name": "Python 3"
    },
    "language_info": {
      "name": "python"
    }
  },
  "cells": [
    {
      "cell_type": "markdown",
      "metadata": {
        "id": "view-in-github",
        "colab_type": "text"
      },
      "source": [
        "<a href=\"https://colab.research.google.com/github/Dd8985/PYTHON_PROJECTS/blob/main/ProjeTeslim/Pandas/DenizDrahyal%C4%B1.Pandas.ipynb\" target=\"_parent\"><img src=\"https://colab.research.google.com/assets/colab-badge.svg\" alt=\"Open In Colab\"/></a>"
      ]
    },
    {
      "cell_type": "code",
      "execution_count": null,
      "metadata": {
        "id": "se5fSZXxDss2"
      },
      "outputs": [],
      "source": []
    },
    {
      "source": [
        "import numpy as np\n",
        "import pandas as pd\n",
        "import matplotlib.pyplot as plt\n",
        "import seaborn as sns\n",
        "import sklearn"
      ],
      "cell_type": "code",
      "metadata": {
        "id": "pCuDoGU0GUiZ"
      },
      "execution_count": null,
      "outputs": []
    },
    {
      "cell_type": "code",
      "source": [
        "df = pd.read_csv('https://bit.ly/2JRmGC2')"
      ],
      "metadata": {
        "id": "hYzoPfUFGbT9"
      },
      "execution_count": null,
      "outputs": []
    },
    {
      "cell_type": "code",
      "source": [
        "df"
      ],
      "metadata": {
        "id": "o0qD6lkILovM"
      },
      "execution_count": null,
      "outputs": []
    },
    {
      "cell_type": "code",
      "source": [
        "type(df)"
      ],
      "metadata": {
        "id": "5cMS3Hs1LxZ6"
      },
      "execution_count": null,
      "outputs": []
    },
    {
      "cell_type": "code",
      "source": [
        "df.info()"
      ],
      "metadata": {
        "id": "QbA7B7lSL4Dx"
      },
      "execution_count": null,
      "outputs": []
    },
    {
      "cell_type": "code",
      "source": [
        "df.head(10)"
      ],
      "metadata": {
        "id": "Xizfvv7jMHjy"
      },
      "execution_count": null,
      "outputs": []
    },
    {
      "cell_type": "code",
      "source": [
        "df.calories.value_counts()"
      ],
      "metadata": {
        "id": "_Xj4iqt0MT73"
      },
      "execution_count": null,
      "outputs": []
    },
    {
      "cell_type": "code",
      "source": [
        "df.type.value_counts()"
      ],
      "metadata": {
        "id": "rN6FxEkaNGRw"
      },
      "execution_count": null,
      "outputs": []
    },
    {
      "cell_type": "code",
      "source": [
        "print('şeker ortalaması:' , df['sugars'].mean())"
      ],
      "metadata": {
        "id": "D2vaNWJ9NObS"
      },
      "execution_count": null,
      "outputs": []
    },
    {
      "source": [
        "df[df['calories'] > 100]"
      ],
      "cell_type": "code",
      "metadata": {
        "id": "Ox__VMt5N8JC"
      },
      "execution_count": null,
      "outputs": []
    },
    {
      "cell_type": "code",
      "source": [
        "df.isnull().sum()"
      ],
      "metadata": {
        "id": "8RSbrwrOOe2p"
      },
      "execution_count": null,
      "outputs": []
    },
    {
      "cell_type": "code",
      "source": [
        "def get_vitamin_level(vitamins):\n",
        "  if vitamins > 99:\n",
        "    return 'High'\n",
        "  elif vitamins > 24:\n",
        "    return 'Medium'\n",
        "  else:\n",
        "    return 'Low'"
      ],
      "metadata": {
        "id": "54rp8pJFOxp0"
      },
      "execution_count": null,
      "outputs": []
    },
    {
      "cell_type": "code",
      "source": [
        "get_vitamin_level(100)"
      ],
      "metadata": {
        "id": "75DdXRkjQIF5"
      },
      "execution_count": null,
      "outputs": []
    },
    {
      "cell_type": "code",
      "source": [
        "get_vitamin_level(23)"
      ],
      "metadata": {
        "id": "cISPEPiQQNDM"
      },
      "execution_count": null,
      "outputs": []
    },
    {
      "cell_type": "code",
      "source": [
        "df.vitamins.apply(get_vitamin_level)"
      ],
      "metadata": {
        "id": "gwMZaO_EQhrI"
      },
      "execution_count": null,
      "outputs": []
    },
    {
      "cell_type": "code",
      "source": [
        "df['get_vitamin_level'] = df.vitamins.apply(get_vitamin_level)"
      ],
      "metadata": {
        "id": "5yfSjd1qQvha"
      },
      "execution_count": null,
      "outputs": []
    },
    {
      "cell_type": "code",
      "source": [
        "df"
      ],
      "metadata": {
        "id": "frBkSDkxRONS"
      },
      "execution_count": null,
      "outputs": []
    },
    {
      "cell_type": "code",
      "source": [
        "!pip install ydata-profiling"
      ],
      "metadata": {
        "id": "vzpNZFMtRpQi"
      },
      "execution_count": null,
      "outputs": []
    },
    {
      "cell_type": "code",
      "source": [
        "from ydata_profiling import ProfileReport\n",
        "from pandas import DataFrame\n",
        "import pandas as pd\n",
        "df = pd.read_csv('https://bit.ly/2JRmGC2')\n",
        "\n",
        "profile = ProfileReport(df, title='Veri Analizi Raporu')\n",
        "profile.to_file('Veri_Analizi_Raporu.html')\n"
      ],
      "metadata": {
        "id": "uc2Xey9doQYX"
      },
      "execution_count": null,
      "outputs": []
    },
    {
      "cell_type": "markdown",
      "source": [
        "# Yeni Bölüm"
      ],
      "metadata": {
        "id": "bHYdn9qbvAvi"
      }
    }
  ]
}