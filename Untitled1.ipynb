{
  "nbformat": 4,
  "nbformat_minor": 0,
  "metadata": {
    "colab": {
      "provenance": []
    },
    "kernelspec": {
      "name": "python3",
      "display_name": "Python 3"
    },
    "language_info": {
      "name": "python"
    }
  },
  "cells": [
    {
      "cell_type": "code",
      "execution_count": null,
      "metadata": {
        "id": "AjcpQQP6DRqy"
      },
      "outputs": [],
      "source": []
    },
    {
      "source": [
        "import pandas as pd"
      ],
      "cell_type": "code",
      "metadata": {
        "id": "B0XqoJ0wDpLW"
      },
      "execution_count": null,
      "outputs": []
    },
    {
      "source": [
        "df = pd.read_csv('/content/df1.csv')"
      ],
      "cell_type": "code",
      "metadata": {
        "id": "rw3Y65B2DqFJ"
      },
      "execution_count": null,
      "outputs": []
    },
    {
      "cell_type": "code",
      "source": [
        "df"
      ],
      "metadata": {
        "id": "4q_1YWvuDwNK"
      },
      "execution_count": null,
      "outputs": []
    }
  ]
}