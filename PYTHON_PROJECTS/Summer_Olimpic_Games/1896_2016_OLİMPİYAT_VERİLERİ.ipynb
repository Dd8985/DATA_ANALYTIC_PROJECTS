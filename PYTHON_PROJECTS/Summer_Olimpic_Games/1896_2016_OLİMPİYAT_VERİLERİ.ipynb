{
  "nbformat": 4,
  "nbformat_minor": 0,
  "metadata": {
    "colab": {
      "provenance": []
    },
    "kernelspec": {
      "name": "python3",
      "display_name": "Python 3"
    },
    "language_info": {
      "name": "python"
    }
  },
  "cells": [
    {
      "cell_type": "markdown",
      "source": [
        "VERİ SETİNİ TANIMLAYALIM: 1896 Atina Olimpiyatları'ndan 2016 Rio Olimpiyatları'na kadar uzanan ve oyunların kayıtlarına sahip olan Olimpiyat Oyunlarının kapsamlı bir veri kümesidir.Her örnek, bireysel bir Olimpik etkinlikte (sporcu etkinlikleri) yarışan bireysel bir sporcuya karşılık gelir."
      ],
      "metadata": {
        "id": "Efv_bHFMoKR3"
      }
    },
    {
      "cell_type": "markdown",
      "source": [
        "İlk olarak kütüphaneleri yükleyelim:"
      ],
      "metadata": {
        "id": "eWnkE7cfqp5m"
      }
    },
    {
      "cell_type": "code",
      "source": [
        "import pandas as pd\n",
        "import numpy as np\n",
        "import matplotlib.pyplot as plt\n",
        "import seaborn as sns"
      ],
      "metadata": {
        "id": "tMo7bw8lqzCT"
      },
      "execution_count": null,
      "outputs": []
    },
    {
      "cell_type": "markdown",
      "source": [
        "Olimpiyat Sporcuları Veri setini yükleyelim:"
      ],
      "metadata": {
        "id": "if0Kl-NYtBDv"
      }
    },
    {
      "cell_type": "code",
      "source": [
        "df1 = pd.read_csv(\"/df1.csv\", index_col=1).drop(columns=[\"Unnamed: 0\"])\n",
        "df1"
      ],
      "metadata": {
        "id": "gZGHdoFlzSWm"
      },
      "execution_count": null,
      "outputs": []
    },
    {
      "cell_type": "markdown",
      "source": [
        "NOC (National Olympic Committee) Bölge Veri setini yükleyelim:"
      ],
      "metadata": {
        "id": "srXv1cNG0cEm"
      }
    },
    {
      "cell_type": "code",
      "source": [
        "df2 = pd.read_csv(\"/noc_regions.csv\")\n",
        "df2"
      ],
      "metadata": {
        "id": "Mi3Wb0_U0evH"
      },
      "execution_count": null,
      "outputs": []
    },
    {
      "cell_type": "markdown",
      "source": [
        "Her iki veri setini de detaylı inceleyip istatistiksel değerlerini inceleyelim.\n"
      ],
      "metadata": {
        "id": "CnDtv26i1l4P"
      }
    },
    {
      "cell_type": "code",
      "source": [
        "df1.info()"
      ],
      "metadata": {
        "id": "z3twRk7E14-Y"
      },
      "execution_count": null,
      "outputs": []
    },
    {
      "cell_type": "code",
      "source": [
        "df1.describe()"
      ],
      "metadata": {
        "id": "jZbm5KfS1-tT"
      },
      "execution_count": null,
      "outputs": []
    },
    {
      "cell_type": "code",
      "source": [
        "df2.info()"
      ],
      "metadata": {
        "id": "g5poMz4L2DGK"
      },
      "execution_count": null,
      "outputs": []
    },
    {
      "cell_type": "code",
      "source": [
        "df2.describe()"
      ],
      "metadata": {
        "id": "t7MNztGH2HtC"
      },
      "execution_count": null,
      "outputs": []
    },
    {
      "cell_type": "markdown",
      "source": [
        "Her iki veri setinde de NOC sütunu olduğundan veri setlerini bu sütuna göre birleştirelim:"
      ],
      "metadata": {
        "id": "ZI2Jlnvx2WZe"
      }
    },
    {
      "cell_type": "code",
      "source": [
        "df= pd.merge(df1, df2, on='NOC')\n",
        "df"
      ],
      "metadata": {
        "id": "VbeUi32A2fX7"
      },
      "execution_count": null,
      "outputs": []
    },
    {
      "cell_type": "markdown",
      "source": [
        "Bu projemizin odak noktası yalnızca yaz olimpiyatları olacağı için, veri kümemizden tüm kış olimpiyatlarını filtreleyelim ve veri kümemiz üzerinde bazı temel analizler yapalım."
      ],
      "metadata": {
        "id": "DGxokESx2vWv"
      }
    },
    {
      "cell_type": "code",
      "source": [
        "df = df[df[\"Season\"]==\"Summer\"]\n",
        "df"
      ],
      "metadata": {
        "id": "7sIyOIFS2zG0"
      },
      "execution_count": null,
      "outputs": []
    },
    {
      "cell_type": "markdown",
      "source": [
        "filtreleme işleminden sonra hangi sütunlarda kaç tane NULL (NaN) değer var bakalım:"
      ],
      "metadata": {
        "id": "yxtcMC374eTs"
      }
    },
    {
      "cell_type": "code",
      "source": [
        "df.isnull().sum()"
      ],
      "metadata": {
        "id": "Jx6JSE9M4oOt"
      },
      "execution_count": null,
      "outputs": []
    },
    {
      "cell_type": "markdown",
      "source": [
        "3 tip madalya olduğundan kazanılan madalyaların yüzdelik oranlarına bakalım:"
      ],
      "metadata": {
        "id": "dX6TJK0u40fh"
      }
    },
    {
      "cell_type": "code",
      "source": [
        "df.Medal.value_counts(normalize = True)"
      ],
      "metadata": {
        "id": "uUGFgSDH47EJ"
      },
      "execution_count": null,
      "outputs": []
    },
    {
      "cell_type": "markdown",
      "source": [
        "Kayıp gözlemler tüm verinin yüzde kaçını oluşturuyor bakalım:"
      ],
      "metadata": {
        "id": "pV7-P18i6gF9"
      }
    },
    {
      "cell_type": "code",
      "source": [
        "missing_percentage= 100*(df.isna().sum().sort_values(ascending = False)/len(df))\n",
        "missing_percentage[missing_percentage!=0]"
      ],
      "metadata": {
        "id": "PNQFS7SY6nLl"
      },
      "execution_count": null,
      "outputs": []
    },
    {
      "cell_type": "markdown",
      "source": [
        "Notes sütununu veri setinden kaldıralım:"
      ],
      "metadata": {
        "id": "k8qhDV2V68_P"
      }
    },
    {
      "cell_type": "code",
      "source": [
        "df.drop(columns=[\"notes\"], inplace=True)"
      ],
      "metadata": {
        "id": "KKa2hZxJ7PUz"
      },
      "execution_count": null,
      "outputs": []
    },
    {
      "cell_type": "markdown",
      "source": [
        "weight sütunun veri tipini detayl inceleyelim: 53764 tane kayıp veri olduğunu göreceğiz."
      ],
      "metadata": {
        "id": "bjLdZRod8DrB"
      }
    },
    {
      "cell_type": "code",
      "source": [
        "df['Weight'].value_counts()"
      ],
      "metadata": {
        "id": "DLejWk888MKf"
      },
      "execution_count": null,
      "outputs": []
    },
    {
      "cell_type": "markdown",
      "source": [
        "weight sütunundaki ? görülen yerler artık NaN olsun istiyoruz."
      ],
      "metadata": {
        "id": "L3O4r98j9CV3"
      }
    },
    {
      "cell_type": "code",
      "source": [
        "df['Weight'] = df['Weight'].replace(['?'], np.nan)"
      ],
      "metadata": {
        "id": "ZEM3TbqO9Jxf"
      },
      "execution_count": null,
      "outputs": []
    },
    {
      "cell_type": "markdown",
      "source": [
        "eksik değerleri tekrar kontrol edelim:ilk kontrolde weight sütununda hiç eksik değer yok gibi gözüküyordu fakat şimdi düzeltildi."
      ],
      "metadata": {
        "id": "K3Qg8RiT9jA2"
      }
    },
    {
      "cell_type": "code",
      "source": [
        "df.isnull().sum()"
      ],
      "metadata": {
        "id": "wEXwHdJJ90Ld"
      },
      "execution_count": null,
      "outputs": []
    },
    {
      "cell_type": "markdown",
      "source": [
        "Age sütunundaki tüm boş değerleri ortalama ile dolduralım:"
      ],
      "metadata": {
        "id": "BO2qAiih-8te"
      }
    },
    {
      "cell_type": "code",
      "source": [
        "df['Age'].fillna(df['Age'].mean(),inplace=True)"
      ],
      "metadata": {
        "id": "CtXvNLug_BsO"
      },
      "execution_count": null,
      "outputs": []
    },
    {
      "cell_type": "markdown",
      "source": [
        "Height sütunundaki tüm boş değerleri ortalama ile dolduralım:"
      ],
      "metadata": {
        "id": "PXBiuh7z_Fxm"
      }
    },
    {
      "cell_type": "code",
      "source": [
        "df['Height'].fillna(df['Height'].mean(),inplace=True)"
      ],
      "metadata": {
        "id": "0LRkXOeL_LFb"
      },
      "execution_count": null,
      "outputs": []
    },
    {
      "cell_type": "markdown",
      "source": [
        "weight sütunun veri tipini string den floata çevirellim:"
      ],
      "metadata": {
        "id": "IEqoaDkzABpb"
      }
    },
    {
      "cell_type": "code",
      "source": [
        "df['Weight'] = df['Weight'].astype(float)"
      ],
      "metadata": {
        "id": "lj83cU0zAHCH"
      },
      "execution_count": null,
      "outputs": []
    },
    {
      "cell_type": "markdown",
      "source": [
        "şimdi de weight sütunundaki eksik değerleri ortalama ile dolduralım:"
      ],
      "metadata": {
        "id": "Kff4ZRF5AKFk"
      }
    },
    {
      "cell_type": "code",
      "source": [
        "df['Weight'].fillna(df['Weight'].mean(), inplace=True)"
      ],
      "metadata": {
        "id": "RevIyFU3ARRH"
      },
      "execution_count": null,
      "outputs": []
    },
    {
      "cell_type": "markdown",
      "source": [
        "Region sütunundaki farklı değerlere bakalım:"
      ],
      "metadata": {
        "id": "Zp1bF4qGAp7U"
      }
    },
    {
      "cell_type": "code",
      "source": [
        "df[\"region\"].unique()"
      ],
      "metadata": {
        "id": "m9xWZ-4cAuaL"
      },
      "execution_count": null,
      "outputs": []
    },
    {
      "cell_type": "markdown",
      "source": [
        "222203 tane veri den sadece 21 tane region verisi eksikti o yüzden bu regıon sütunundaki 21 tane eksik değeri komple veri setinden kaldıralım."
      ],
      "metadata": {
        "id": "QPHETOonAzs0"
      }
    },
    {
      "cell_type": "code",
      "source": [
        "df.region.dropna(inplace=True)"
      ],
      "metadata": {
        "id": "NedZG95UBDv8"
      },
      "execution_count": null,
      "outputs": []
    },
    {
      "cell_type": "markdown",
      "source": [
        "3 farklı madalya tipi olduğundan ve veri setinde oldukça fazla sayıda medal sütununda NaN değer olduğundan bu NaN değerleri 'madalya kazanamadı' olarak dolduralım:"
      ],
      "metadata": {
        "id": "a21cocd7BOY_"
      }
    },
    {
      "cell_type": "code",
      "source": [
        "df['Medal'].fillna(\"Medal Not Won\", inplace=True)"
      ],
      "metadata": {
        "id": "YJAJE7xKBecZ"
      },
      "execution_count": null,
      "outputs": []
    },
    {
      "cell_type": "markdown",
      "source": [
        "veri setlerini birleştirip kısmen temizlik işlemleri yapıldıktan sonra birbirleri ile aynı olan satırlar varmı bakalım:"
      ],
      "metadata": {
        "id": "jXfpyOMdCTGn"
      }
    },
    {
      "cell_type": "code",
      "source": [
        "df[df.duplicated()]"
      ],
      "metadata": {
        "id": "7tLJHo4OCf4S"
      },
      "execution_count": null,
      "outputs": []
    },
    {
      "cell_type": "markdown",
      "source": [
        "toplam kaç adet duplicate satırlar var?:"
      ],
      "metadata": {
        "id": "qvkjgQbyCmpq"
      }
    },
    {
      "cell_type": "code",
      "source": [
        "df.duplicated().sum()"
      ],
      "metadata": {
        "id": "NAhyJwPlCqiL"
      },
      "execution_count": null,
      "outputs": []
    },
    {
      "cell_type": "markdown",
      "source": [
        "tekrar eden değerleri(satırları) veri setinden kaldıralım:"
      ],
      "metadata": {
        "id": "LpQOtGAICw1m"
      }
    },
    {
      "cell_type": "code",
      "source": [
        "df.drop_duplicates(inplace=True)"
      ],
      "metadata": {
        "id": "Z-69yp3vC13E"
      },
      "execution_count": null,
      "outputs": []
    },
    {
      "cell_type": "markdown",
      "source": [
        "veri setinde tekrar eden değerler kaldı mı kontrol edelim:"
      ],
      "metadata": {
        "id": "mKgUH-NUC79u"
      }
    },
    {
      "cell_type": "code",
      "source": [
        "df.duplicated().sum()"
      ],
      "metadata": {
        "id": "pxezwuD5DAsE"
      },
      "execution_count": null,
      "outputs": []
    },
    {
      "cell_type": "markdown",
      "source": [
        "Yaz olimpiyatlarına en çok sporcu gönderen ülke hangisidir ve her bir ülke toplam bu yıllar arasında kaç sporcu yollamıştır?:"
      ],
      "metadata": {
        "id": "dr7L_BIVDH2z"
      }
    },
    {
      "cell_type": "code",
      "source": [
        "athlete_count = df.Team.value_counts()\n",
        "athlete_count"
      ],
      "metadata": {
        "id": "zZEzV7oBDWYk"
      },
      "execution_count": null,
      "outputs": []
    },
    {
      "cell_type": "markdown",
      "source": [
        "yaz olimpiyatlarına en çok sporcu gönderen ilk 10 ülkeyi bar chart ile görselleştirelim:"
      ],
      "metadata": {
        "id": "w5zSN_fwDeaB"
      }
    },
    {
      "cell_type": "code",
      "source": [
        "plt.figure(figsize=[18,8])\n",
        "sns.barplot(x=athlete_count[:10].index, y=athlete_count[:10])\n",
        "plt.title(\"Countries Send the Most Athletes to the Olympics\")\n",
        "plt.xlabel(\"Countries\")\n",
        "plt.ylabel(\"Athlete Count\");"
      ],
      "metadata": {
        "id": "brGbxy1XDmsh"
      },
      "execution_count": null,
      "outputs": []
    },
    {
      "cell_type": "markdown",
      "source": [
        "veri setinden 'madalya kazanamadı' olan kişileri çıkarıp sadece altın, gümüş ve bronz madalya kazananları görelim (yani madalya kazananların listesini görelim):"
      ],
      "metadata": {
        "id": "pulKX6fhD4hv"
      }
    },
    {
      "cell_type": "code",
      "source": [
        "df[df.Medal != 'Medal Not Won']"
      ],
      "metadata": {
        "id": "I1HGysVmECdF"
      },
      "execution_count": null,
      "outputs": []
    },
    {
      "cell_type": "markdown",
      "source": [
        "madalya kazanmayanları filtreleyip ülkeler bazında gruplama işlemi yaparak en çok madalya kazanan ülkeleri görelim:"
      ],
      "metadata": {
        "id": "G6bxiSvrFEAq"
      }
    },
    {
      "cell_type": "code",
      "source": [
        "df_filtered = df[df.Medal != 'Medal Not Won']\n",
        "medals_by_country = df_filtered.groupby('Team')['Medal'].count().sort_values(ascending=False)\n",
        "medals_by_country"
      ],
      "metadata": {
        "id": "0Rkh0P-6Fe3U"
      },
      "execution_count": null,
      "outputs": []
    },
    {
      "cell_type": "markdown",
      "source": [
        "en çok madalya kazanan ülkelerden ilk 10 tanesini bar chart ile görselleştirelim:"
      ],
      "metadata": {
        "id": "9k8sw0KtFogS"
      }
    },
    {
      "cell_type": "code",
      "source": [
        "plt.figure(figsize=[18,8])\n",
        "sns.barplot(x=medals_by_country[:10].index, y=medals_by_country[:10], palette=\"YlOrBr_r\")\n",
        "plt.title(\"Countries Won the Most Medals in the Olympics\");"
      ],
      "metadata": {
        "id": "tz8tOQvMFuL2"
      },
      "execution_count": null,
      "outputs": []
    },
    {
      "cell_type": "markdown",
      "source": [
        "Ülkeler gönderdikleri sporcu sayılarına göre madalya kazanmakta ne kadar başarılı?:"
      ],
      "metadata": {
        "id": "LenpVXqxF3DJ"
      }
    },
    {
      "cell_type": "code",
      "source": [
        "filtered_athlete = athlete_count[athlete_count > 1000]\n",
        "country_success = (medals_by_country / filtered_athlete).sort_values(ascending=False).dropna()\n",
        "country_success"
      ],
      "metadata": {
        "id": "QjFwjw3NGG3p"
      },
      "execution_count": null,
      "outputs": []
    },
    {
      "cell_type": "markdown",
      "source": [
        "şimdi bunu görselleştirelim:"
      ],
      "metadata": {
        "id": "8rBWmAtMGMSN"
      }
    },
    {
      "cell_type": "code",
      "source": [
        "plt.figure(figsize=[15,10])\n",
        "sns.barplot(x=country_success.values*100, y=country_success.index, palette='coolwarm_r')\n",
        "plt.title(\"Countries Medal Won Percentage in the Olympics\")\n",
        "plt.xlabel(\"Percentage (%)\");"
      ],
      "metadata": {
        "id": "Krju06ZRGPPU"
      },
      "execution_count": null,
      "outputs": []
    },
    {
      "cell_type": "markdown",
      "source": [
        "yıllar içinde zamanla katılımcı sayılarımız nasıl değişmiş?"
      ],
      "metadata": {
        "id": "GMlb8tOIGfZL"
      }
    },
    {
      "cell_type": "code",
      "source": [
        "athlete_by_year = df.groupby('Year')['Name'].count()\n",
        "athlete_by_year\n"
      ],
      "metadata": {
        "id": "r68m66CEGk9e"
      },
      "execution_count": null,
      "outputs": []
    },
    {
      "cell_type": "markdown",
      "source": [
        "yıllar içindeki katılımcı sayısının değişimini line chart ile görselleştirelim:"
      ],
      "metadata": {
        "id": "DBo_46L0Grj9"
      }
    },
    {
      "cell_type": "code",
      "source": [
        "plt.figure(figsize=[18,8])\n",
        "plt.xticks(np.linspace(1896,2016,13))\n",
        "plt.grid()\n",
        "sns.lineplot(x=athlete_by_year.index, y=athlete_by_year.values)\n",
        "plt.title(\"Change in the Number of Athletes Over the Years\")\n",
        "plt.ylabel(\"Athlete Count\");"
      ],
      "metadata": {
        "id": "RkGosJNVGx6n"
      },
      "execution_count": null,
      "outputs": []
    },
    {
      "cell_type": "markdown",
      "source": [
        "spor dallarına göre kadın-erkek katılımcılarının arasındaki farkı görelim:"
      ],
      "metadata": {
        "id": "ro9mY6JEHAiH"
      }
    },
    {
      "cell_type": "code",
      "source": [
        "plt.figure(figsize=(12, 5));\n",
        "highest_sport = df['Sport'].value_counts().index\n",
        "sns.countplot(data = df, x = 'Sport', hue = 'Sex', order = highest_sport, palette=sns.color_palette(\"seismic\",2))\n",
        "plt.xticks(rotation=90)\n",
        "plt.title('Sports with Gender distribution')\n",
        "plt.xlabel('Sport', fontweight='bold')\n",
        "plt.ylabel('No. of Athletes', fontweight='bold');\n",
        "plt.legend(['Male','Female'],loc=1, shadow=True);"
      ],
      "metadata": {
        "id": "UBlsBCJuHISA"
      },
      "execution_count": null,
      "outputs": []
    },
    {
      "cell_type": "markdown",
      "source": [
        "erkek ve kadın sporcuların zamanla katılımına bakalım:"
      ],
      "metadata": {
        "id": "8uCqX4WXHMzE"
      }
    },
    {
      "cell_type": "code",
      "source": [
        "year_wise_participants = df.groupby('Year')['Sex'].value_counts()\n",
        "year_wise_participants.head(10)"
      ],
      "metadata": {
        "id": "GqmnkzsIHU_a"
      },
      "execution_count": null,
      "outputs": []
    },
    {
      "cell_type": "markdown",
      "source": [
        "kadın-erkek katılımcıların yıllar içindeki katılım düzeylerini bar chart ile görelim:"
      ],
      "metadata": {
        "id": "HucDGzYFHaia"
      }
    },
    {
      "cell_type": "code",
      "source": [
        "plt.figure(figsize=(15,6))\n",
        "sns.countplot(x = df['Year'], hue=df['Sex']);"
      ],
      "metadata": {
        "id": "9GIY56bZHjk7"
      },
      "execution_count": null,
      "outputs": []
    },
    {
      "cell_type": "markdown",
      "source": [
        "hangi spor dalında hangi madalyadan kaç kişi ne kadar kazanmış?"
      ],
      "metadata": {
        "id": "v-LuEKzaHn7U"
      }
    },
    {
      "cell_type": "code",
      "source": [
        "pd.DataFrame(df_filtered.groupby(['Sport','Medal']).Name.count().reset_index())"
      ],
      "metadata": {
        "id": "UX0n0As3H01c"
      },
      "execution_count": null,
      "outputs": []
    },
    {
      "cell_type": "code",
      "source": [
        "medals_in_sports = df_filtered.groupby(['Sport','Medal']).Name.count().reset_index()\n",
        "medals_in_sports = medals_in_sports.pivot_table(index='Sport', columns='Medal', values='Name')\n",
        "medals_in_sports = medals_in_sports.replace(np.nan, 0)\n",
        "medals_in_sports"
      ],
      "metadata": {
        "id": "0QyolIHRIAc-"
      },
      "execution_count": null,
      "outputs": []
    },
    {
      "cell_type": "markdown",
      "source": [
        "Amerika nın yıllar içindeki madalya sayılarındaki değişimi görelim:"
      ],
      "metadata": {
        "id": "h-4_0SZlIDuX"
      }
    },
    {
      "cell_type": "code",
      "source": [
        "usa = df[df['Team']=='United States']\n",
        "usa"
      ],
      "metadata": {
        "id": "MyArS6MiIO4O"
      },
      "execution_count": null,
      "outputs": []
    },
    {
      "cell_type": "markdown",
      "source": [
        "Amerika da sadece madalya kazananları görelim ve madalya kazanmayanları filtreleyelim:"
      ],
      "metadata": {
        "id": "1ZbfOavRITbU"
      }
    },
    {
      "cell_type": "code",
      "source": [
        "usa_medals_count = usa[usa['Medal'] !='Medal Not Won']\n",
        "usa_medals_count"
      ],
      "metadata": {
        "id": "__ggJFXIIjpR"
      },
      "execution_count": null,
      "outputs": []
    },
    {
      "cell_type": "markdown",
      "source": [
        "Amerika da hangi yıl kaç kişi madalya kazanmış?"
      ],
      "metadata": {
        "id": "ToFLcZfzIozM"
      }
    },
    {
      "cell_type": "code",
      "source": [
        "usa_medal = usa_medals_count.groupby('Year')['Medal'].count()\n",
        "usa_medal"
      ],
      "metadata": {
        "id": "x9jEjvhDIwlw"
      },
      "execution_count": null,
      "outputs": []
    },
    {
      "cell_type": "markdown",
      "source": [
        "Amerika da hangi yıl kaç kişi madalya kazanmış line chart ile görselleştirelim"
      ],
      "metadata": {
        "id": "LLhJb5o0I3XS"
      }
    },
    {
      "cell_type": "code",
      "source": [
        "plt.figure(figsize=[24,8])\n",
        "plt.xticks(np.linspace(1896,2016,25))\n",
        "plt.grid()\n",
        "sns.lineplot(x=usa_medal.index, y=usa_medal.values);"
      ],
      "metadata": {
        "id": "5TlnC6iCI-y9"
      },
      "execution_count": null,
      "outputs": []
    }
  ]
}