{
  "nbformat": 4,
  "nbformat_minor": 0,
  "metadata": {
    "colab": {
      "provenance": [],
      "include_colab_link": true
    },
    "kernelspec": {
      "name": "python3",
      "display_name": "Python 3"
    },
    "language_info": {
      "name": "python"
    }
  },
  "cells": [
    {
      "cell_type": "markdown",
      "metadata": {
        "id": "view-in-github",
        "colab_type": "text"
      },
      "source": [
        "<a href=\"https://colab.research.google.com/github/Dd8985/DATA_ANALYTIC_PROJECTS/blob/main/PYTHON_PROJECTS/Summer_Olimpic_Games/1896_2016_OL%C4%B0MP%C4%B0YAT_VER%C4%B0LER%C4%B0.ipynb\" target=\"_parent\"><img src=\"https://colab.research.google.com/assets/colab-badge.svg\" alt=\"Open In Colab\"/></a>"
      ]
    },
    {
      "cell_type": "markdown",
      "source": [
        " DEFINE THE DATASET: A comprehensive dataset of the Olympic Games, spanning from the 1896 Athens Olympics to the 2016 Rio Olympics, with records of the games. Each instance corresponds to an individual athlete competing in an individual Olympic event (athlete events)."
      ],
      "metadata": {
        "id": "Efv_bHFMoKR3"
      }
    },
    {
      "cell_type": "markdown",
      "source": [
        "1) install python libraries"
      ],
      "metadata": {
        "id": "eWnkE7cfqp5m"
      }
    },
    {
      "cell_type": "code",
      "source": [
        "import pandas as pd\n",
        "import numpy as np\n",
        "import matplotlib.pyplot as plt\n",
        "import seaborn as sns"
      ],
      "metadata": {
        "id": "tMo7bw8lqzCT"
      },
      "execution_count": null,
      "outputs": []
    },
    {
      "cell_type": "markdown",
      "source": [
        "2) upload the Olympic athletes dataset"
      ],
      "metadata": {
        "id": "if0Kl-NYtBDv"
      }
    },
    {
      "cell_type": "code",
      "source": [
        "df1 = pd.read_csv(\"/df1.csv\", index_col=1).drop(columns=[\"Unnamed: 0\"])\n",
        "df1"
      ],
      "metadata": {
        "id": "gZGHdoFlzSWm"
      },
      "execution_count": null,
      "outputs": []
    },
    {
      "cell_type": "markdown",
      "source": [
        "3) load the NOC (National Olympic Committee) Region Data set:"
      ],
      "metadata": {
        "id": "srXv1cNG0cEm"
      }
    },
    {
      "cell_type": "code",
      "source": [
        "df2 = pd.read_csv(\"/noc_regions.csv\")\n",
        "df2"
      ],
      "metadata": {
        "id": "Mi3Wb0_U0evH"
      },
      "execution_count": null,
      "outputs": []
    },
    {
      "cell_type": "markdown",
      "source": [
        "4) examine both data sets in detail and analyze their statistical values.\n"
      ],
      "metadata": {
        "id": "CnDtv26i1l4P"
      }
    },
    {
      "cell_type": "code",
      "source": [
        "df1.info()"
      ],
      "metadata": {
        "id": "z3twRk7E14-Y"
      },
      "execution_count": null,
      "outputs": []
    },
    {
      "cell_type": "code",
      "source": [
        "df1.describe()"
      ],
      "metadata": {
        "id": "jZbm5KfS1-tT"
      },
      "execution_count": null,
      "outputs": []
    },
    {
      "cell_type": "code",
      "source": [
        "df2.info()"
      ],
      "metadata": {
        "id": "g5poMz4L2DGK"
      },
      "execution_count": null,
      "outputs": []
    },
    {
      "cell_type": "code",
      "source": [
        "df2.describe()"
      ],
      "metadata": {
        "id": "t7MNztGH2HtC"
      },
      "execution_count": null,
      "outputs": []
    },
    {
      "cell_type": "markdown",
      "source": [
        "5) Since both data sets have the NOC column, let's merge the data sets according to this column:"
      ],
      "metadata": {
        "id": "ZI2Jlnvx2WZe"
      }
    },
    {
      "cell_type": "code",
      "source": [
        "df= pd.merge(df1, df2, on='NOC')\n",
        "df"
      ],
      "metadata": {
        "id": "VbeUi32A2fX7"
      },
      "execution_count": null,
      "outputs": []
    },
    {
      "cell_type": "markdown",
      "source": [
        "6) Since the focus of this project will only be on the summer Olympics, let's filter out all winter Olympics from our dataset and do some basic analysis on our dataset."
      ],
      "metadata": {
        "id": "DGxokESx2vWv"
      }
    },
    {
      "cell_type": "code",
      "source": [
        "df = df[df[\"Season\"]==\"Summer\"]\n",
        "df"
      ],
      "metadata": {
        "id": "7sIyOIFS2zG0"
      },
      "execution_count": null,
      "outputs": []
    },
    {
      "cell_type": "markdown",
      "source": [
        "7) After filtering, see how many NULL (NaN) values are in which columns:"
      ],
      "metadata": {
        "id": "yxtcMC374eTs"
      }
    },
    {
      "cell_type": "code",
      "source": [
        "df.isnull().sum()"
      ],
      "metadata": {
        "id": "Jx6JSE9M4oOt"
      },
      "execution_count": null,
      "outputs": []
    },
    {
      "cell_type": "markdown",
      "source": [
        "8) Since there are 3 types of medals, let's look at the percentages of the medals won:"
      ],
      "metadata": {
        "id": "dX6TJK0u40fh"
      }
    },
    {
      "cell_type": "code",
      "source": [
        "df.Medal.value_counts(normalize = True)"
      ],
      "metadata": {
        "id": "uUGFgSDH47EJ"
      },
      "execution_count": null,
      "outputs": []
    },
    {
      "cell_type": "markdown",
      "source": [
        "9)  see what percentage of the whole data the missing observations make up:"
      ],
      "metadata": {
        "id": "pV7-P18i6gF9"
      }
    },
    {
      "cell_type": "code",
      "source": [
        "missing_percentage= 100*(df.isna().sum().sort_values(ascending = False)/len(df))\n",
        "missing_percentage[missing_percentage!=0]"
      ],
      "metadata": {
        "id": "PNQFS7SY6nLl"
      },
      "execution_count": null,
      "outputs": []
    },
    {
      "cell_type": "markdown",
      "source": [
        "10) remove the Notes column from the data set:"
      ],
      "metadata": {
        "id": "k8qhDV2V68_P"
      }
    },
    {
      "cell_type": "code",
      "source": [
        "df.drop(columns=[\"notes\"], inplace=True)"
      ],
      "metadata": {
        "id": "KKa2hZxJ7PUz"
      },
      "execution_count": null,
      "outputs": []
    },
    {
      "cell_type": "markdown",
      "source": [
        "11) examine the data type of the weight column in detail: 53764 missing data."
      ],
      "metadata": {
        "id": "bjLdZRod8DrB"
      }
    },
    {
      "cell_type": "code",
      "source": [
        "df['Weight'].value_counts()"
      ],
      "metadata": {
        "id": "DLejWk888MKf"
      },
      "execution_count": null,
      "outputs": []
    },
    {
      "cell_type": "markdown",
      "source": [
        "12) We want the ? in the weight column to be NaN from now on."
      ],
      "metadata": {
        "id": "L3O4r98j9CV3"
      }
    },
    {
      "cell_type": "code",
      "source": [
        "df['Weight'] = df['Weight'].replace(['?'], np.nan)"
      ],
      "metadata": {
        "id": "ZEM3TbqO9Jxf"
      },
      "execution_count": null,
      "outputs": []
    },
    {
      "cell_type": "markdown",
      "source": [
        "13) check the missing values again: in the first check, it seemed that there were no missing values in the weight column, but now it is fixed."
      ],
      "metadata": {
        "id": "K3Qg8RiT9jA2"
      }
    },
    {
      "cell_type": "code",
      "source": [
        "df.isnull().sum()"
      ],
      "metadata": {
        "id": "wEXwHdJJ90Ld"
      },
      "execution_count": null,
      "outputs": []
    },
    {
      "cell_type": "markdown",
      "source": [
        "14) Fill all empty values in the Age column with the average:"
      ],
      "metadata": {
        "id": "BO2qAiih-8te"
      }
    },
    {
      "cell_type": "code",
      "source": [
        "df['Age'].fillna(df['Age'].mean(),inplace=True)"
      ],
      "metadata": {
        "id": "CtXvNLug_BsO"
      },
      "execution_count": null,
      "outputs": []
    },
    {
      "cell_type": "markdown",
      "source": [
        "15) Fill all empty values in the Height column with the average:"
      ],
      "metadata": {
        "id": "PXBiuh7z_Fxm"
      }
    },
    {
      "cell_type": "code",
      "source": [
        "df['Height'].fillna(df['Height'].mean(),inplace=True)"
      ],
      "metadata": {
        "id": "0LRkXOeL_LFb"
      },
      "execution_count": null,
      "outputs": []
    },
    {
      "cell_type": "markdown",
      "source": [
        "16)  change the data type of the weight column from string to float:"
      ],
      "metadata": {
        "id": "IEqoaDkzABpb"
      }
    },
    {
      "cell_type": "code",
      "source": [
        "df['Weight'] = df['Weight'].astype(float)"
      ],
      "metadata": {
        "id": "lj83cU0zAHCH"
      },
      "execution_count": null,
      "outputs": []
    },
    {
      "cell_type": "markdown",
      "source": [
        "17) now fill in the missing values in the weight column with the average:"
      ],
      "metadata": {
        "id": "Kff4ZRF5AKFk"
      }
    },
    {
      "cell_type": "code",
      "source": [
        "df['Weight'].fillna(df['Weight'].mean(), inplace=True)"
      ],
      "metadata": {
        "id": "RevIyFU3ARRH"
      },
      "execution_count": null,
      "outputs": []
    },
    {
      "cell_type": "markdown",
      "source": [
        "18) Let's look at the different values in the Region column:"
      ],
      "metadata": {
        "id": "Zp1bF4qGAp7U"
      }
    },
    {
      "cell_type": "code",
      "source": [
        "df[\"region\"].unique()"
      ],
      "metadata": {
        "id": "m9xWZ-4cAuaL"
      },
      "execution_count": null,
      "outputs": []
    },
    {
      "cell_type": "markdown",
      "source": [
        "19) Only 21 regions data was missing from the 222203 data, so let's remove the 21 missing values in this region column from the whole data set. because removing these 21 values does not affect the data set."
      ],
      "metadata": {
        "id": "QPHETOonAzs0"
      }
    },
    {
      "cell_type": "code",
      "source": [
        "df.region.dropna(inplace=True)"
      ],
      "metadata": {
        "id": "NedZG95UBDv8"
      },
      "execution_count": null,
      "outputs": []
    },
    {
      "cell_type": "markdown",
      "source": [
        "20) Since there are 3 different medal types and there are quite a lot of NaN values in the medal column in the dataset, let's fill these NaN values as 'did not win a medal':"
      ],
      "metadata": {
        "id": "a21cocd7BOY_"
      }
    },
    {
      "cell_type": "code",
      "source": [
        "df['Medal'].fillna(\"Medal Not Won\", inplace=True)"
      ],
      "metadata": {
        "id": "YJAJE7xKBecZ"
      },
      "execution_count": null,
      "outputs": []
    },
    {
      "cell_type": "markdown",
      "source": [
        "21) After combining the data sets and partially cleaning them, let's see if there are rows that are the same with each other:"
      ],
      "metadata": {
        "id": "jXfpyOMdCTGn"
      }
    },
    {
      "cell_type": "code",
      "source": [
        "df[df.duplicated()]"
      ],
      "metadata": {
        "id": "7tLJHo4OCf4S"
      },
      "execution_count": null,
      "outputs": []
    },
    {
      "cell_type": "markdown",
      "source": [
        "22) How many total duplicate rows are there?:"
      ],
      "metadata": {
        "id": "qvkjgQbyCmpq"
      }
    },
    {
      "cell_type": "code",
      "source": [
        "df.duplicated().sum()"
      ],
      "metadata": {
        "id": "NAhyJwPlCqiL"
      },
      "execution_count": null,
      "outputs": []
    },
    {
      "cell_type": "markdown",
      "source": [
        "23) remove duplicates values (rows) from the data set:"
      ],
      "metadata": {
        "id": "LpQOtGAICw1m"
      }
    },
    {
      "cell_type": "code",
      "source": [
        "df.drop_duplicates(inplace=True)"
      ],
      "metadata": {
        "id": "Z-69yp3vC13E"
      },
      "execution_count": null,
      "outputs": []
    },
    {
      "cell_type": "markdown",
      "source": [
        "24) check if there are any repeating values left in the data set:"
      ],
      "metadata": {
        "id": "mKgUH-NUC79u"
      }
    },
    {
      "cell_type": "code",
      "source": [
        "df.duplicated().sum()"
      ],
      "metadata": {
        "id": "pxezwuD5DAsE"
      },
      "execution_count": null,
      "outputs": []
    },
    {
      "cell_type": "markdown",
      "source": [
        "25) Which country has sent the most athletes to the Summer Olympics and how many athletes did each country send in total during these years?"
      ],
      "metadata": {
        "id": "dr7L_BIVDH2z"
      }
    },
    {
      "cell_type": "code",
      "source": [
        "athlete_count = df.Team.value_counts()\n",
        "athlete_count"
      ],
      "metadata": {
        "id": "zZEzV7oBDWYk"
      },
      "execution_count": null,
      "outputs": []
    },
    {
      "cell_type": "markdown",
      "source": [
        "26)  visualize the top 10 countries that sent the most athletes to the Summer Olympics with a bar chart:"
      ],
      "metadata": {
        "id": "w5zSN_fwDeaB"
      }
    },
    {
      "cell_type": "code",
      "source": [
        "plt.figure(figsize=[18,8])\n",
        "sns.barplot(x=athlete_count[:10].index, y=athlete_count[:10])\n",
        "plt.title(\"Countries Send the Most Athletes to the Olympics\")\n",
        "plt.xlabel(\"Countries\")\n",
        "plt.ylabel(\"Athlete Count\");"
      ],
      "metadata": {
        "id": "brGbxy1XDmsh"
      },
      "execution_count": null,
      "outputs": []
    },
    {
      "cell_type": "markdown",
      "source": [
        "27) Let's remove 'did not win a medal' from the dataset and see only the gold, silver and bronze medal winners (i.e. the list of medal winners):"
      ],
      "metadata": {
        "id": "pulKX6fhD4hv"
      }
    },
    {
      "cell_type": "code",
      "source": [
        "df[df.Medal != 'Medal Not Won']"
      ],
      "metadata": {
        "id": "I1HGysVmECdF"
      },
      "execution_count": null,
      "outputs": []
    },
    {
      "cell_type": "markdown",
      "source": [
        "28) Let's filter out the non-medal winners and group by country to see which countries have won the most medals:"
      ],
      "metadata": {
        "id": "G6bxiSvrFEAq"
      }
    },
    {
      "cell_type": "code",
      "source": [
        "df_filtered = df[df.Medal != 'Medal Not Won']\n",
        "medals_by_country = df_filtered.groupby('Team')['Medal'].count().sort_values(ascending=False)\n",
        "medals_by_country"
      ],
      "metadata": {
        "id": "0Rkh0P-6Fe3U"
      },
      "execution_count": null,
      "outputs": []
    },
    {
      "cell_type": "markdown",
      "source": [
        "29) Let's visualize the top 10 countries with the most medals with a bar chart:"
      ],
      "metadata": {
        "id": "9k8sw0KtFogS"
      }
    },
    {
      "cell_type": "code",
      "source": [
        "plt.figure(figsize=[18,8])\n",
        "sns.barplot(x=medals_by_country[:10].index, y=medals_by_country[:10], palette=\"YlOrBr_r\")\n",
        "plt.title(\"Countries Won the Most Medals in the Olympics\");"
      ],
      "metadata": {
        "id": "tz8tOQvMFuL2"
      },
      "execution_count": null,
      "outputs": []
    },
    {
      "cell_type": "markdown",
      "source": [
        "30) How successful are countries in winning medals according to the number of athletes they send?"
      ],
      "metadata": {
        "id": "LenpVXqxF3DJ"
      }
    },
    {
      "cell_type": "code",
      "source": [
        "filtered_athlete = athlete_count[athlete_count > 1000]\n",
        "country_success = (medals_by_country / filtered_athlete).sort_values(ascending=False).dropna()\n",
        "country_success"
      ],
      "metadata": {
        "id": "QjFwjw3NGG3p"
      },
      "execution_count": null,
      "outputs": []
    },
    {
      "cell_type": "markdown",
      "source": [
        "31) Now we can visualize this:"
      ],
      "metadata": {
        "id": "8rBWmAtMGMSN"
      }
    },
    {
      "cell_type": "code",
      "source": [
        "plt.figure(figsize=[15,10])\n",
        "sns.barplot(x=country_success.values*100, y=country_success.index, palette='coolwarm_r')\n",
        "plt.title(\"Countries Medal Won Percentage in the Olympics\")\n",
        "plt.xlabel(\"Percentage (%)\");"
      ],
      "metadata": {
        "id": "Krju06ZRGPPU"
      },
      "execution_count": null,
      "outputs": []
    },
    {
      "cell_type": "markdown",
      "source": [
        "32) How have our participant numbers changed over the years?"
      ],
      "metadata": {
        "id": "GMlb8tOIGfZL"
      }
    },
    {
      "cell_type": "code",
      "source": [
        "athlete_by_year = df.groupby('Year')['Name'].count()\n",
        "athlete_by_year\n"
      ],
      "metadata": {
        "id": "r68m66CEGk9e"
      },
      "execution_count": null,
      "outputs": []
    },
    {
      "cell_type": "markdown",
      "source": [
        "33) We can visualize the change in the number of participants over the years with a line chart:"
      ],
      "metadata": {
        "id": "DBo_46L0Grj9"
      }
    },
    {
      "cell_type": "code",
      "source": [
        "plt.figure(figsize=[18,8])\n",
        "plt.xticks(np.linspace(1896,2016,13))\n",
        "plt.grid()\n",
        "sns.lineplot(x=athlete_by_year.index, y=athlete_by_year.values)\n",
        "plt.title(\"Change in the Number of Athletes Over the Years\")\n",
        "plt.ylabel(\"Athlete Count\");"
      ],
      "metadata": {
        "id": "RkGosJNVGx6n"
      },
      "execution_count": null,
      "outputs": []
    },
    {
      "cell_type": "markdown",
      "source": [
        "34) We can see the difference between male and female participants by sport:"
      ],
      "metadata": {
        "id": "ro9mY6JEHAiH"
      }
    },
    {
      "cell_type": "code",
      "source": [
        "plt.figure(figsize=(12, 5));\n",
        "highest_sport = df['Sport'].value_counts().index\n",
        "sns.countplot(data = df, x = 'Sport', hue = 'Sex', order = highest_sport, palette=sns.color_palette(\"seismic\",2))\n",
        "plt.xticks(rotation=90)\n",
        "plt.title('Sports with Gender distribution')\n",
        "plt.xlabel('Sport', fontweight='bold')\n",
        "plt.ylabel('No. of Athletes', fontweight='bold');\n",
        "plt.legend(['Male','Female'],loc=1, shadow=True);"
      ],
      "metadata": {
        "id": "UBlsBCJuHISA"
      },
      "execution_count": null,
      "outputs": []
    },
    {
      "cell_type": "markdown",
      "source": [
        "35) we can look at the participation of male and female athletes over time:"
      ],
      "metadata": {
        "id": "8uCqX4WXHMzE"
      }
    },
    {
      "cell_type": "code",
      "source": [
        "year_wise_participants = df.groupby('Year')['Sex'].value_counts()\n",
        "year_wise_participants.head(10)"
      ],
      "metadata": {
        "id": "GqmnkzsIHU_a"
      },
      "execution_count": null,
      "outputs": []
    },
    {
      "cell_type": "markdown",
      "source": [
        "36) Let's see the participation levels of male and female participants over the years with a bar chart:"
      ],
      "metadata": {
        "id": "HucDGzYFHaia"
      }
    },
    {
      "cell_type": "code",
      "source": [
        "plt.figure(figsize=(15,6))\n",
        "sns.countplot(x = df['Year'], hue=df['Sex']);"
      ],
      "metadata": {
        "id": "9GIY56bZHjk7"
      },
      "execution_count": null,
      "outputs": []
    },
    {
      "cell_type": "markdown",
      "source": [
        "37) how many people won how many medals in which sport and how much?"
      ],
      "metadata": {
        "id": "v-LuEKzaHn7U"
      }
    },
    {
      "cell_type": "code",
      "source": [
        "pd.DataFrame(df_filtered.groupby(['Sport','Medal']).Name.count().reset_index())"
      ],
      "metadata": {
        "id": "UX0n0As3H01c"
      },
      "execution_count": null,
      "outputs": []
    },
    {
      "cell_type": "code",
      "source": [
        "medals_in_sports = df_filtered.groupby(['Sport','Medal']).Name.count().reset_index()\n",
        "medals_in_sports = medals_in_sports.pivot_table(index='Sport', columns='Medal', values='Name')\n",
        "medals_in_sports = medals_in_sports.replace(np.nan, 0)\n",
        "medals_in_sports"
      ],
      "metadata": {
        "id": "0QyolIHRIAc-"
      },
      "execution_count": null,
      "outputs": []
    },
    {
      "cell_type": "markdown",
      "source": [
        "38) We can see the change in America's medal count over the years:"
      ],
      "metadata": {
        "id": "h-4_0SZlIDuX"
      }
    },
    {
      "cell_type": "code",
      "source": [
        "usa = df[df['Team']=='United States']\n",
        "usa"
      ],
      "metadata": {
        "id": "MyArS6MiIO4O"
      },
      "execution_count": null,
      "outputs": []
    },
    {
      "cell_type": "markdown",
      "source": [
        "39) Let's see only medal winners and filter out non-medal winners in America:"
      ],
      "metadata": {
        "id": "1ZbfOavRITbU"
      }
    },
    {
      "cell_type": "code",
      "source": [
        "usa_medals_count = usa[usa['Medal'] !='Medal Not Won']\n",
        "usa_medals_count"
      ],
      "metadata": {
        "id": "__ggJFXIIjpR"
      },
      "execution_count": null,
      "outputs": []
    },
    {
      "cell_type": "markdown",
      "source": [
        "40) How many people won medals in the US in which year?"
      ],
      "metadata": {
        "id": "ToFLcZfzIozM"
      }
    },
    {
      "cell_type": "code",
      "source": [
        "usa_medal = usa_medals_count.groupby('Year')['Medal'].count()\n",
        "usa_medal"
      ],
      "metadata": {
        "id": "x9jEjvhDIwlw"
      },
      "execution_count": null,
      "outputs": []
    },
    {
      "cell_type": "markdown",
      "source": [
        "41) Let's visualize with a line chart how many people won medals in America in which year"
      ],
      "metadata": {
        "id": "LLhJb5o0I3XS"
      }
    },
    {
      "cell_type": "code",
      "source": [
        "plt.figure(figsize=[24,8])\n",
        "plt.xticks(np.linspace(1896,2016,25))\n",
        "plt.grid()\n",
        "sns.lineplot(x=usa_medal.index, y=usa_medal.values);"
      ],
      "metadata": {
        "id": "5TlnC6iCI-y9"
      },
      "execution_count": null,
      "outputs": []
    }
  ]
}